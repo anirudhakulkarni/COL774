{
 "cells": [
  {
   "cell_type": "code",
   "execution_count": 2,
   "source": [
    "# copy first n lines of \"./dataset/Music_Review_train.json\" and store it to \"./dataset/Music_Review_train_temp.json\"\r\n",
    "with open(\"./dataset/Music_Review_test.json\", \"r\") as f:\r\n",
    "    lines = f.readlines()\r\n",
    "    with open(\"./dataset/Music_Review_test_temp.json\", \"w\") as f:\r\n",
    "        for line in lines[:1000]:\r\n",
    "            f.write(line)\r\n",
    "with open(\"./dataset/Music_Review_train.json\", \"r\") as f:\r\n",
    "    lines = f.readlines()\r\n",
    "    with open(\"./dataset/Music_Review_train_temp.json\", \"w\") as f:\r\n",
    "        for line in lines[:1000]:\r\n",
    "            f.write(line)\r\n"
   ],
   "outputs": [],
   "metadata": {}
  },
  {
   "cell_type": "code",
   "execution_count": 7,
   "source": [
    "import numpy as np\r\n",
    "X=np.load('X_test_clean_tr_q1.npy',allow_pickle=True)\r\n",
    "print(X.shape)\r\n",
    "X=np.load('X_test_clean_q1.npy',allow_pickle=True)\r\n",
    "print(X.shape)"
   ],
   "outputs": [
    {
     "output_type": "stream",
     "name": "stdout",
     "text": [
      "(14000,)\n",
      "(14000,)\n"
     ]
    }
   ],
   "metadata": {}
  },
  {
   "cell_type": "code",
   "execution_count": 8,
   "source": [
    "X=np.load('X_train_clean_tr_q1.npy',allow_pickle=True)\r\n",
    "print(X.shape)"
   ],
   "outputs": [
    {
     "output_type": "stream",
     "name": "stdout",
     "text": [
      "(50000,)\n"
     ]
    }
   ],
   "metadata": {}
  },
  {
   "cell_type": "code",
   "execution_count": 9,
   "source": [
    "X=[]"
   ],
   "outputs": [],
   "metadata": {}
  },
  {
   "cell_type": "code",
   "execution_count": 28,
   "source": [
    "\r\n",
    "# import these modules\r\n",
    "from nltk.stem import WordNetLemmatizer\r\n",
    " \r\n",
    "lemmatizer = WordNetLemmatizer()\r\n",
    " \r\n",
    "print(\"rocks :\", lemmatizer.lemmatize(\"rocks\"))\r\n",
    "print(\"corpora :\", lemmatizer.lemmatize(\"corpora\"))\r\n",
    " \r\n",
    "# a denotes adjective in \"pos\"\r\n",
    "print(\"better :\", lemmatizer.lemmatize(\"of\"))"
   ],
   "outputs": [
    {
     "output_type": "stream",
     "name": "stdout",
     "text": [
      "rocks : rock\n",
      "corpora : corpus\n",
      "better : of\n"
     ]
    }
   ],
   "metadata": {}
  },
  {
   "cell_type": "code",
   "execution_count": 25,
   "source": [
    "import nltk\r\n",
    "nltk.download('wordnet')"
   ],
   "outputs": [
    {
     "output_type": "stream",
     "name": "stderr",
     "text": [
      "[nltk_data] Downloading package wordnet to\n",
      "[nltk_data]     C:\\Users\\91930\\AppData\\Roaming\\nltk_data...\n",
      "[nltk_data]   Unzipping corpora\\wordnet.zip.\n"
     ]
    },
    {
     "output_type": "execute_result",
     "data": {
      "text/plain": [
       "True"
      ]
     },
     "metadata": {},
     "execution_count": 25
    }
   ],
   "metadata": {}
  },
  {
   "cell_type": "code",
   "execution_count": 1,
   "source": [
    "mydict={'a':1,'b':2,'c':3}\r\n",
    "print(len(mydict))"
   ],
   "outputs": [
    {
     "output_type": "stream",
     "name": "stdout",
     "text": [
      "3\n"
     ]
    }
   ],
   "metadata": {}
  },
  {
   "cell_type": "code",
   "execution_count": null,
   "source": [],
   "outputs": [],
   "metadata": {}
  }
 ],
 "metadata": {
  "orig_nbformat": 4,
  "language_info": {
   "name": "python",
   "version": "3.9.1",
   "mimetype": "text/x-python",
   "codemirror_mode": {
    "name": "ipython",
    "version": 3
   },
   "pygments_lexer": "ipython3",
   "nbconvert_exporter": "python",
   "file_extension": ".py"
  },
  "kernelspec": {
   "name": "python3",
   "display_name": "Python 3.9.1 64-bit"
  },
  "interpreter": {
   "hash": "af74d5892cc6ec92d638e3f92566238f8f2331de277a6f0ed89e3a87c5669053"
  }
 },
 "nbformat": 4,
 "nbformat_minor": 2
}