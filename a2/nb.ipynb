{
 "cells": [
  {
   "cell_type": "code",
   "execution_count": 1,
   "source": [
    "# Given users review predit overall rating given by user\r\n",
    "import json\r\n",
    "import pandas as pd\r\n",
    "import numpy as np\r\n",
    "import nltk\r\n",
    "from nltk.corpus import stopwords\r\n",
    "from nltk.tokenize import word_tokenize\r\n",
    "from nltk.stem import PorterStemmer\r\n",
    "import string\r\n",
    "import random\r\n",
    "import collections\r\n",
    "import math\r\n"
   ],
   "outputs": [],
   "metadata": {}
  },
  {
   "cell_type": "code",
   "execution_count": 7,
   "source": [
    "# read json data\r\n",
    "\r\n",
    "# preprocess data\r\n",
    "def preprocess_data(filepath=\"./dataset/Music_Review_train.json\"):\r\n",
    "    raw_data = pd.read_json(filepath,lines=True)\r\n",
    "    X=raw_data['reviewText']\r\n",
    "    Y=raw_data['overall']\r\n",
    "    sw_nltk=set(stopwords.words('english'))\r\n",
    "    \r\n",
    "    output=[]\r\n",
    "    for sentence in X:\r\n",
    "        # tokenize sentence\r\n",
    "        tokens=word_tokenize(sentence)\r\n",
    "        # normalize\r\n",
    "        tokens=[w.lower() for w in tokens]\r\n",
    "        # remove punctuation\r\n",
    "        table=str.maketrans('','',string.punctuation)\r\n",
    "        stripped=[w.translate(table) for w in tokens]\r\n",
    "        # remove remaining tokens that are not alphabetic\r\n",
    "        words=[word for word in stripped if word.isalpha()]\r\n",
    "        # filter out stop words\r\n",
    "        words=[w for w in words if not w in sw_nltk]\r\n",
    "        # filter out stem words\r\n",
    "        ps=PorterStemmer()\r\n",
    "        words=[ps.stem(w) for w in words]\r\n",
    "        output.append(np.asarray(words) )\r\n",
    "    return np.asarray(output),Y\r\n",
    "def vocab_assist(X_c):\r\n",
    "    # use default dictionary\r\n",
    "    dicta=collections.defaultdict(int)\r\n",
    "    for i in range(len(X_c)):\r\n",
    "        for word in X_c[i]:\r\n",
    "            if word not in dicta:\r\n",
    "                dicta[word]=1\r\n",
    "            else:\r\n",
    "                dicta[word]+=1\r\n",
    "    return dicta\r\n",
    "\r\n",
    "\r\n",
    "def get_vocabulary(X_c,Y):\r\n",
    "    class_vocab=[]\r\n",
    "    class_vocab.append(vocab_assist(X_c))\r\n",
    "    for class_label in range(5):\r\n",
    "        tempdict=vocab_assist(X_c[np.where(Y==class_label+1)])\r\n",
    "        class_vocab.append(tempdict)\r\n",
    "    return class_vocab\r\n",
    "\r\n",
    "# Naive bayes from scratch\r\n",
    "def naive_bayes(X,Y):\r\n",
    "    # number of examples = m\r\n",
    "    m=len(X)\r\n",
    "    # class then vocabulary\r\n",
    "    # psi_i=[[],[],[],[],[]]\r\n",
    "    psi_i=[{},{},{},{},{}]\r\n",
    "    psi_y=[]\r\n",
    "    # get vocabulary\r\n",
    "    vocab=get_vocabulary(X,Y)\r\n",
    "    for class_label in range(5):\r\n",
    "        denom=sum([len(row) for row in X[np.where(Y==class_label+1)]])+len(vocab[0])\r\n",
    "        for word in vocab[0]:\r\n",
    "            psi_i[class_label][word]=(vocab[class_label+1][word]+1)/denom            \r\n",
    "        psi_y.append(len(X[np.where(Y==class_label+1)])/m)\r\n",
    "    return psi_i,psi_y\r\n",
    "\r\n",
    "def predict(x,psi_i,psi_y):\r\n",
    "    class_prob=[]\r\n",
    "    denom=0\r\n",
    "    for class_label in range(5):\r\n",
    "        numer=1\r\n",
    "        for word in x:\r\n",
    "            # start from here again\r\n",
    "            numer+=math.log(psi_i[class_label][word])+math.log(psi_y[class_label])\r\n",
    "        denom+=numer\r\n",
    "        p_y_x=numer\r\n",
    "        class_prob.append(p_y_x)\r\n",
    "    # class_prob.append(denom)\r\n",
    "    class_prob=np.asarray(class_prob)-denom\r\n",
    "    return class_prob        \r\n",
    "def get_predictions(X_c,psi_i,psi_y):\r\n",
    "    Y=[]\r\n",
    "    for x in X_c:\r\n",
    "        class_prob=predict(x,psi_i,psi_y)\r\n",
    "        Y.append(np.argmax(class_prob)+1)\r\n",
    "    return Y\r\n",
    "\r\n",
    "def test(temp_X,Y,psi_i,psi_y):\r\n",
    "    total=0\r\n",
    "    for x in range(len(temp_X)):\r\n",
    "        if 1+np.argmax(predict(temp_X[x],psi_i,psi_y))==Y[x]:\r\n",
    "            total+=1\r\n",
    "    return total/len(temp_X)\r\n",
    "def random_prediction(X_c,Y):\r\n",
    "    # randomly predict class for each example\r\n",
    "    class_label=[]\r\n",
    "    for i in range(len(X_c)):\r\n",
    "        class_label.append(random.randint(1,5))\r\n",
    "    return np.count_nonzero(Y==class_label)/len(X_c)\r\n",
    "def majority_prediction(X_c,Y):\r\n",
    "    # majority vote\r\n",
    "    Y_pred=np.argmax(np.bincount(Y))\r\n",
    "    return np.count_nonzero(Y==Y_pred)/len(X_c)\r\n"
   ],
   "outputs": [],
   "metadata": {}
  },
  {
   "cell_type": "code",
   "execution_count": 3,
   "source": [
    "# train\r\n",
    "train_X,train_Y=preprocess_data(\"./dataset/Music_Review_train.json\")\r\n",
    "psi_i,psi_y=naive_bayes(train_X,train_Y)\r\n",
    "print(predict(train_X[0],psi_i,psi_y))\r\n",
    "print(test(train_X,train_Y,psi_i,psi_y))\r\n",
    "print(random_prediction(train_X,train_Y))\r\n",
    "print(majority_prediction(train_X,train_Y))"
   ],
   "outputs": [
    {
     "output_type": "stream",
     "name": "stderr",
     "text": [
      "C:\\Users\\91930\\AppData\\Local\\Programs\\Python\\Python39\\lib\\site-packages\\numpy\\core\\_asarray.py:83: VisibleDeprecationWarning: Creating an ndarray from ragged nested sequences (which is a list-or-tuple of lists-or-tuples-or ndarrays with different lengths or shapes) is deprecated. If you meant to do this, you must specify 'dtype=object' when creating the ndarray\n",
      "  return array(a, dtype, copy=False, order=order)\n"
     ]
    },
    {
     "output_type": "stream",
     "name": "stdout",
     "text": [
      "[21591.27252695 21808.58301955 22378.36404743 22939.10990261\n",
      " 23286.43709212]\n",
      "0.5187\n",
      "0.20284\n",
      "0.51864\n"
     ]
    }
   ],
   "metadata": {}
  },
  {
   "cell_type": "code",
   "execution_count": 4,
   "source": [
    "test_X,test_Y=preprocess_data(\"./dataset/Music_Review_test.json\")\r\n",
    "print(test(test_X,test_Y,psi_i,psi_y))\r\n",
    "print(random_prediction(test_X,test_Y))\r\n",
    "print(majority_prediction(test_X,test_Y))\r\n"
   ],
   "outputs": [
    {
     "output_type": "stream",
     "name": "stderr",
     "text": [
      "C:\\Users\\91930\\AppData\\Local\\Programs\\Python\\Python39\\lib\\site-packages\\numpy\\core\\_asarray.py:83: VisibleDeprecationWarning: Creating an ndarray from ragged nested sequences (which is a list-or-tuple of lists-or-tuples-or ndarrays with different lengths or shapes) is deprecated. If you meant to do this, you must specify 'dtype=object' when creating the ndarray\n",
      "  return array(a, dtype, copy=False, order=order)\n"
     ]
    },
    {
     "output_type": "error",
     "ename": "KeyError",
     "evalue": "'agepop'",
     "traceback": [
      "\u001b[1;31m---------------------------------------------------------------------------\u001b[0m",
      "\u001b[1;31mKeyError\u001b[0m                                  Traceback (most recent call last)",
      "\u001b[1;32m<ipython-input-4-7a5de0f9ddc9>\u001b[0m in \u001b[0;36m<module>\u001b[1;34m\u001b[0m\n\u001b[0;32m      1\u001b[0m \u001b[0mtest_X\u001b[0m\u001b[1;33m,\u001b[0m\u001b[0mtest_Y\u001b[0m\u001b[1;33m=\u001b[0m\u001b[0mpreprocess_data\u001b[0m\u001b[1;33m(\u001b[0m\u001b[1;34m\"./dataset/Music_Review_test.json\"\u001b[0m\u001b[1;33m)\u001b[0m\u001b[1;33m\u001b[0m\u001b[1;33m\u001b[0m\u001b[0m\n\u001b[1;32m----> 2\u001b[1;33m \u001b[0mprint\u001b[0m\u001b[1;33m(\u001b[0m\u001b[0mtest\u001b[0m\u001b[1;33m(\u001b[0m\u001b[0mtest_X\u001b[0m\u001b[1;33m,\u001b[0m\u001b[0mtest_Y\u001b[0m\u001b[1;33m,\u001b[0m\u001b[0mpsi_i\u001b[0m\u001b[1;33m,\u001b[0m\u001b[0mpsi_y\u001b[0m\u001b[1;33m)\u001b[0m\u001b[1;33m)\u001b[0m\u001b[1;33m\u001b[0m\u001b[1;33m\u001b[0m\u001b[0m\n\u001b[0m\u001b[0;32m      3\u001b[0m \u001b[0mprint\u001b[0m\u001b[1;33m(\u001b[0m\u001b[0mrandom_prediction\u001b[0m\u001b[1;33m(\u001b[0m\u001b[0mtest_X\u001b[0m\u001b[1;33m,\u001b[0m\u001b[0mtest_Y\u001b[0m\u001b[1;33m)\u001b[0m\u001b[1;33m)\u001b[0m\u001b[1;33m\u001b[0m\u001b[1;33m\u001b[0m\u001b[0m\n\u001b[0;32m      4\u001b[0m \u001b[0mprint\u001b[0m\u001b[1;33m(\u001b[0m\u001b[0mmajority_prediction\u001b[0m\u001b[1;33m(\u001b[0m\u001b[0mtest_X\u001b[0m\u001b[1;33m,\u001b[0m\u001b[0mtest_Y\u001b[0m\u001b[1;33m)\u001b[0m\u001b[1;33m)\u001b[0m\u001b[1;33m\u001b[0m\u001b[1;33m\u001b[0m\u001b[0m\n",
      "\u001b[1;32m<ipython-input-2-896af440f303>\u001b[0m in \u001b[0;36mtest\u001b[1;34m(temp_X, Y, psi_i, psi_y)\u001b[0m\n\u001b[0;32m     80\u001b[0m     \u001b[0mtotal\u001b[0m\u001b[1;33m=\u001b[0m\u001b[1;36m0\u001b[0m\u001b[1;33m\u001b[0m\u001b[1;33m\u001b[0m\u001b[0m\n\u001b[0;32m     81\u001b[0m     \u001b[1;32mfor\u001b[0m \u001b[0mx\u001b[0m \u001b[1;32min\u001b[0m \u001b[0mrange\u001b[0m\u001b[1;33m(\u001b[0m\u001b[0mlen\u001b[0m\u001b[1;33m(\u001b[0m\u001b[0mtemp_X\u001b[0m\u001b[1;33m)\u001b[0m\u001b[1;33m)\u001b[0m\u001b[1;33m:\u001b[0m\u001b[1;33m\u001b[0m\u001b[1;33m\u001b[0m\u001b[0m\n\u001b[1;32m---> 82\u001b[1;33m         \u001b[1;32mif\u001b[0m \u001b[1;36m1\u001b[0m\u001b[1;33m+\u001b[0m\u001b[0mnp\u001b[0m\u001b[1;33m.\u001b[0m\u001b[0margmax\u001b[0m\u001b[1;33m(\u001b[0m\u001b[0mpredict\u001b[0m\u001b[1;33m(\u001b[0m\u001b[0mtemp_X\u001b[0m\u001b[1;33m[\u001b[0m\u001b[0mx\u001b[0m\u001b[1;33m]\u001b[0m\u001b[1;33m,\u001b[0m\u001b[0mpsi_i\u001b[0m\u001b[1;33m,\u001b[0m\u001b[0mpsi_y\u001b[0m\u001b[1;33m)\u001b[0m\u001b[1;33m)\u001b[0m\u001b[1;33m==\u001b[0m\u001b[0mY\u001b[0m\u001b[1;33m[\u001b[0m\u001b[0mx\u001b[0m\u001b[1;33m]\u001b[0m\u001b[1;33m:\u001b[0m\u001b[1;33m\u001b[0m\u001b[1;33m\u001b[0m\u001b[0m\n\u001b[0m\u001b[0;32m     83\u001b[0m             \u001b[0mtotal\u001b[0m\u001b[1;33m+=\u001b[0m\u001b[1;36m1\u001b[0m\u001b[1;33m\u001b[0m\u001b[1;33m\u001b[0m\u001b[0m\n\u001b[0;32m     84\u001b[0m     \u001b[1;32mreturn\u001b[0m \u001b[0mtotal\u001b[0m\u001b[1;33m/\u001b[0m\u001b[0mlen\u001b[0m\u001b[1;33m(\u001b[0m\u001b[0mtemp_X\u001b[0m\u001b[1;33m)\u001b[0m\u001b[1;33m\u001b[0m\u001b[1;33m\u001b[0m\u001b[0m\n",
      "\u001b[1;32m<ipython-input-2-896af440f303>\u001b[0m in \u001b[0;36mpredict\u001b[1;34m(x, psi_i, psi_y)\u001b[0m\n\u001b[0;32m     70\u001b[0m         \u001b[1;32mfor\u001b[0m \u001b[0mword\u001b[0m \u001b[1;32min\u001b[0m \u001b[0mx\u001b[0m\u001b[1;33m:\u001b[0m\u001b[1;33m\u001b[0m\u001b[1;33m\u001b[0m\u001b[0m\n\u001b[0;32m     71\u001b[0m             \u001b[1;31m# start from here again\u001b[0m\u001b[1;33m\u001b[0m\u001b[1;33m\u001b[0m\u001b[1;33m\u001b[0m\u001b[0m\n\u001b[1;32m---> 72\u001b[1;33m             \u001b[0mnumer\u001b[0m\u001b[1;33m+=\u001b[0m\u001b[0mmath\u001b[0m\u001b[1;33m.\u001b[0m\u001b[0mlog\u001b[0m\u001b[1;33m(\u001b[0m\u001b[0mpsi_i\u001b[0m\u001b[1;33m[\u001b[0m\u001b[0mclass_label\u001b[0m\u001b[1;33m]\u001b[0m\u001b[1;33m[\u001b[0m\u001b[0mword\u001b[0m\u001b[1;33m]\u001b[0m\u001b[1;33m)\u001b[0m\u001b[1;33m+\u001b[0m\u001b[0mmath\u001b[0m\u001b[1;33m.\u001b[0m\u001b[0mlog\u001b[0m\u001b[1;33m(\u001b[0m\u001b[0mpsi_y\u001b[0m\u001b[1;33m[\u001b[0m\u001b[0mclass_label\u001b[0m\u001b[1;33m]\u001b[0m\u001b[1;33m)\u001b[0m\u001b[1;33m\u001b[0m\u001b[1;33m\u001b[0m\u001b[0m\n\u001b[0m\u001b[0;32m     73\u001b[0m         \u001b[0mdenom\u001b[0m\u001b[1;33m+=\u001b[0m\u001b[0mnumer\u001b[0m\u001b[1;33m\u001b[0m\u001b[1;33m\u001b[0m\u001b[0m\n\u001b[0;32m     74\u001b[0m         \u001b[0mp_y_x\u001b[0m\u001b[1;33m=\u001b[0m\u001b[0mnumer\u001b[0m\u001b[1;33m\u001b[0m\u001b[1;33m\u001b[0m\u001b[0m\n",
      "\u001b[1;31mKeyError\u001b[0m: 'agepop'"
     ]
    }
   ],
   "metadata": {}
  },
  {
   "cell_type": "code",
   "execution_count": 8,
   "source": [
    "# plot confusion matrix for test data\r\n",
    "import seaborn as sns\r\n",
    "import matplotlib.pyplot as plt\r\n",
    "from sklearn.metrics import confusion_matrix\r\n",
    "from sklearn.metrics import f1_score\r\n",
    "def draw_confusion(confatrix):\r\n",
    "\tplt.imshow(confatrix)\r\n",
    "\tplt.title(\"Confusion Matrix\")\r\n",
    "\tplt.colorbar()\r\n",
    "\tplt.set_cmap(\"Greens\")\r\n",
    "\tplt.ylabel(\"True labels\")\r\n",
    "\tplt.xlabel(\"Predicted label\")\r\n",
    "\tplt.show()\r\n",
    "predictions=get_predictions(train_X,psi_i,psi_y)\r\n",
    "confatrix = confusion_matrix(train_Y,predictions)\r\n",
    "f1_matrix = f1_score(train_Y,predictions,average=None)\r\n",
    "print(\"F1 Score\")\r\n",
    "print(f1_matrix)\r\n",
    "print(\"Confusion Matrix\")\r\n",
    "print(confatrix)\r\n",
    "macro_f1 = f1_score(train_Y,predictions,average='macro')\r\n",
    "print(\"Macro F1 Score\")\r\n",
    "print(macro_f1)\r\n",
    "draw_confusion(confatrix)\r\n"
   ],
   "outputs": [
    {
     "output_type": "stream",
     "name": "stdout",
     "text": [
      "F1 Score\n",
      "[7.89889415e-04 0.00000000e+00 0.00000000e+00 4.52147702e-04\n",
      " 6.83059821e-01]\n",
      "Confusion Matrix\n",
      "[[    1     0     0     0  2528]\n",
      " [    0     0     0     0  2638]\n",
      " [    0     0     0     0  5634]\n",
      " [    1     0     0     3 13263]\n",
      " [    1     0     0     0 25931]]\n",
      "Macro F1 Score\n",
      "0.13686037170442333\n"
     ]
    },
    {
     "output_type": "display_data",
     "data": {
      "image/png": "[encoded data removed]",
      "text/plain": [
       "<Figure size 432x288 with 2 Axes>"
      ]
     },
     "metadata": {
      "needs_background": "light"
     }
    }
   ],
   "metadata": {}
  },
  {
   "cell_type": "code",
   "execution_count": 9,
   "source": [
    "print(test_Y[0])"
   ],
   "outputs": [
    {
     "output_type": "stream",
     "name": "stdout",
     "text": [
      "5\n"
     ]
    }
   ],
   "metadata": {}
  },
  {
   "cell_type": "code",
   "execution_count": 6,
   "source": [
    "import collections\r\n",
    "cc=[collections.defaultdict(int) for i in range(100)]\r\n",
    "cc[0][0]+=1\r\n",
    "cc[0][1]+=1\r\n",
    "cc[0][2]+=1\r\n",
    "cc[0][2]+=1\r\n",
    "cc[0][2]+=1\r\n",
    "\r\n",
    "print(max(zip(cc[0].values(),cc[0].keys()))[1])"
   ],
   "outputs": [
    {
     "output_type": "stream",
     "name": "stdout",
     "text": [
      "2\n"
     ]
    }
   ],
   "metadata": {}
  },
  {
   "cell_type": "code",
   "execution_count": null,
   "source": [],
   "outputs": [],
   "metadata": {}
  }
 ],
 "metadata": {
  "orig_nbformat": 4,
  "language_info": {
   "name": "python",
   "version": "3.9.1",
   "mimetype": "text/x-python",
   "codemirror_mode": {
    "name": "ipython",
    "version": 3
   },
   "pygments_lexer": "ipython3",
   "nbconvert_exporter": "python",
   "file_extension": ".py"
  },
  "kernelspec": {
   "name": "python3",
   "display_name": "Python 3.9.1 64-bit"
  },
  "interpreter": {
   "hash": "af74d5892cc6ec92d638e3f92566238f8f2331de277a6f0ed89e3a87c5669053"
  }
 },
 "nbformat": 4,
 "nbformat_minor": 2
}