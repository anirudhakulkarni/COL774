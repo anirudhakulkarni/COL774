{
 "cells": [
  {
   "cell_type": "code",
   "execution_count": 27,
   "metadata": {},
   "outputs": [],
   "source": [
    "def one_hot_encoding(X):\n",
    "    # create dataframe and add header\n",
    "    X_one_hot=pd.DataFrame()\n",
    "    categories_list=X.columns.tolist()\n",
    "    for cat in range(len(X.columns)):\n",
    "        # select rows with given category in column cat\n",
    "        # choose only coloumns with categorial data\n",
    "        # print(categories_list[cat])\n",
    "        if X.dtypes[cat]=='object':\n",
    "            categories=X.iloc[:,cat].unique()\n",
    "            # print(categories)\n",
    "            if categories.size==2:\n",
    "                X_one_hot[categories_list[cat]]=np.where(X.iloc[:,cat]==categories_list[0],1,0)\n",
    "            else:\n",
    "                for category in categories:\n",
    "                    # create a new column for each category\n",
    "                    X_one_hot[categories_list[cat]+'_'+str(category)]=np.where(X.iloc[:,cat]==category,1,0)\n",
    "        else:\n",
    "            X_one_hot[categories_list[cat]]=X.iloc[:,cat]\n",
    "    X_one_hot['y']=X.iloc[:,-1]\n",
    "    return X_one_hot"
   ]
  },
  {
   "cell_type": "code",
   "execution_count": 29,
   "metadata": {},
   "outputs": [
    {
     "name": "stdout",
     "output_type": "stream",
     "text": [
      "Index(['age', 'job_blue-collar', 'job_technician', 'job_self-employed',\n",
      "       'job_admin.', 'job_management', 'job_student', 'job_services',\n",
      "       'job_entrepreneur', 'job_housemaid', 'job_unknown', 'job_unemployed',\n",
      "       'job_retired', 'marital_married', 'marital_single', 'marital_divorced',\n",
      "       'education_secondary', 'education_primary', 'education_tertiary',\n",
      "       'education_unknown', 'default', 'balance', 'housing', 'loan',\n",
      "       'contact_cellular', 'contact_unknown', 'contact_telephone', 'day',\n",
      "       'month_apr', 'month_jun', 'month_jul', 'month_feb', 'month_aug',\n",
      "       'month_may', 'month_jan', 'month_nov', 'month_sep', 'month_dec',\n",
      "       'month_oct', 'month_mar', 'duration', 'campaign', 'pdays', 'previous',\n",
      "       'poutcome_unknown', 'poutcome_other', 'poutcome_success',\n",
      "       'poutcome_failure', 'y'],\n",
      "      dtype='object')\n"
     ]
    }
   ],
   "source": [
    "import pandas as pd\n",
    "import preprocess_dt as ppd\n",
    "import  numpy as np\n",
    "data=ppd.read_data(\"./bank_dataset/bank_test.csv\")\n",
    "# where age = 34\n",
    "# print(data.head())\n",
    "xx=one_hot_encoding(data).head()\n",
    "# print(age)\n",
    "print(xx.columns)"
   ]
  },
  {
   "cell_type": "code",
   "execution_count": 36,
   "metadata": {},
   "outputs": [],
   "source": [
    "def one_hot_encoding(X,header):\n",
    "    for cat in header:\n",
    "        # select categorical columns\n",
    "        if X[cat].dtype == 'object':\n",
    "            # select rows with given category in column cat\n",
    "            categories=X[cat].unique()\n",
    "            print(categories)\n",
    "            for category in categories:\n",
    "                # create a new column for each category\n",
    "                X[cat+'_'+category]=np.where(X[cat]==category,1,0)\n",
    "            # drop the original column\n",
    "            X.drop(cat,axis=1,inplace=True)\n",
    "    return X\n",
    "def read_data(filename='./dataset/train.csv'):\n",
    "    dataset = pd.read_csv(filename)\n",
    "    # header\n",
    "    header = dataset.columns.values\n",
    "    # print(dataset.head())\n",
    "    X=dataset.iloc[:,:-1]\n",
    "    Y=dataset.iloc[:,-1]\n",
    "    return X,Y,header\n"
   ]
  },
  {
   "cell_type": "code",
   "execution_count": 38,
   "metadata": {},
   "outputs": [],
   "source": [
    "import pandas as pd\n",
    "import numpy as np\n",
    "def read_data(filename='./dataset/train.csv'):\n",
    "    dataset = pd.read_csv(filename,sep=',',header=None)\n",
    "    # print(dataset.head())\n",
    "    X=dataset.iloc[:,:-1]\n",
    "    Y=dataset.iloc[:,-1]\n",
    "    return X,Y\n"
   ]
  },
  {
   "cell_type": "code",
   "execution_count": 2,
   "metadata": {},
   "outputs": [
    {
     "name": "stdout",
     "output_type": "stream",
     "text": [
      "   0       1       2       3       4       5       6       7       8       \\\n",
      "0       1       3       1       1       3       1       2       3       4   \n",
      "1       1      12       9       4      10       3       6       2       4   \n",
      "2       1       3       4       3       2       4       4       4       3   \n",
      "3      13       2       6      13       7       5      11       9      13   \n",
      "4       2       3       1       2       1       3       2       3       1   \n",
      "\n",
      "   9       ...  999990  999991  999992  999993  999994  999995  999996  \\\n",
      "0       1  ...       2       1       1       1       3       3       3   \n",
      "1       9  ...      12       4       9      12       7       1       3   \n",
      "2       3  ...       4       4       3       3       1       1       4   \n",
      "3       8  ...       3       8       6       9       6      12       5   \n",
      "4       4  ...       1       4       2       3       4       2       2   \n",
      "\n",
      "   999997  999998  999999  \n",
      "0       1       3       2  \n",
      "1      11      11       5  \n",
      "2       4       1       2  \n",
      "3       7       8       9  \n",
      "4       3       1       4  \n",
      "\n",
      "[5 rows x 1000000 columns]\n"
     ]
    },
    {
     "ename": "NameError",
     "evalue": "name 'one_hot_encoding' is not defined",
     "output_type": "error",
     "traceback": [
      "\u001b[1;31m---------------------------------------------------------------------------\u001b[0m",
      "\u001b[1;31mNameError\u001b[0m                                 Traceback (most recent call last)",
      "\u001b[1;32m<ipython-input-2-37834da5ea05>\u001b[0m in \u001b[0;36m<module>\u001b[1;34m\u001b[0m\n\u001b[0;32m      4\u001b[0m \u001b[0mX\u001b[0m\u001b[1;33m=\u001b[0m\u001b[0mpn\u001b[0m\u001b[1;33m.\u001b[0m\u001b[0mread_data\u001b[0m\u001b[1;33m(\u001b[0m\u001b[1;34m\"./poker_dataset/poker-hand-testing.data\"\u001b[0m\u001b[1;33m)\u001b[0m\u001b[1;33m\u001b[0m\u001b[1;33m\u001b[0m\u001b[0m\n\u001b[0;32m      5\u001b[0m \u001b[0mprint\u001b[0m\u001b[1;33m(\u001b[0m\u001b[0mX\u001b[0m\u001b[1;33m.\u001b[0m\u001b[0mhead\u001b[0m\u001b[1;33m(\u001b[0m\u001b[1;33m)\u001b[0m\u001b[1;33m)\u001b[0m\u001b[1;33m\u001b[0m\u001b[1;33m\u001b[0m\u001b[0m\n\u001b[1;32m----> 6\u001b[1;33m \u001b[0mX\u001b[0m\u001b[1;33m=\u001b[0m\u001b[0mone_hot_encoding\u001b[0m\u001b[1;33m(\u001b[0m\u001b[0mX\u001b[0m\u001b[1;33m,\u001b[0m\u001b[0mz\u001b[0m\u001b[1;33m[\u001b[0m\u001b[1;33m:\u001b[0m\u001b[1;33m-\u001b[0m\u001b[1;36m1\u001b[0m\u001b[1;33m]\u001b[0m\u001b[1;33m)\u001b[0m\u001b[1;33m\u001b[0m\u001b[1;33m\u001b[0m\u001b[0m\n\u001b[0m",
      "\u001b[1;31mNameError\u001b[0m: name 'one_hot_encoding' is not defined"
     ]
    }
   ],
   "source": [
    "import preprocess_nn as pn\n",
    "import numpy as np\n",
    "import pandas as pd\n",
    "X=pn.read_data(\"./poker_dataset/poker-hand-testing.data\")\n",
    "print(X.head())\n",
    "X=one_hot_encoding(X,z[:-1])\n"
   ]
  },
  {
   "cell_type": "code",
   "execution_count": 34,
   "metadata": {},
   "outputs": [
    {
     "name": "stdout",
     "output_type": "stream",
     "text": [
      "   age  balance  day  duration  campaign  pdays  previous  job_blue-collar  \\\n",
      "0   34      470   20       217         1     -1         0                1   \n",
      "1   44      406    4       222         1     -1         0                1   \n",
      "2   52      930    2        94        16     -1         0                0   \n",
      "3   32     5511   16       408         2    231        16                1   \n",
      "4   45      845   20        76         4     -1         0                0   \n",
      "\n",
      "   job_technician  job_self-employed  ...  month_jan  month_nov  month_sep  \\\n",
      "0               0                  0  ...          0          0          0   \n",
      "1               0                  0  ...          0          0          0   \n",
      "2               1                  0  ...          0          0          0   \n",
      "3               0                  0  ...          0          0          0   \n",
      "4               0                  1  ...          0          0          0   \n",
      "\n",
      "   month_dec  month_oct  month_mar  poutcome_unknown  poutcome_other  \\\n",
      "0          0          0          0                 1               0   \n",
      "1          0          0          0                 1               0   \n",
      "2          0          0          0                 1               0   \n",
      "3          0          0          0                 0               1   \n",
      "4          0          0          0                 1               0   \n",
      "\n",
      "   poutcome_success  poutcome_failure  \n",
      "0                 0                 0  \n",
      "1                 0                 0  \n",
      "2                 0                 0  \n",
      "3                 0                 0  \n",
      "4                 0                 0  \n",
      "\n",
      "[5 rows x 51 columns]\n"
     ]
    }
   ],
   "source": [
    "print(X.head())"
   ]
  },
  {
   "cell_type": "code",
   "execution_count": 5,
   "metadata": {},
   "outputs": [
    {
     "name": "stdout",
     "output_type": "stream",
     "text": [
      "   age            job  marital  education default  balance housing loan  \\\n",
      "0   34    blue-collar  married  secondary      no      470     yes  yes   \n",
      "1   44    blue-collar  married  secondary      no      406     yes   no   \n",
      "2   52     technician  married  secondary      no      930     yes   no   \n",
      "3   32    blue-collar  married    primary      no     5511      no   no   \n",
      "4   45  self-employed  married  secondary      no      845      no   no   \n",
      "\n",
      "    contact  day month  duration  campaign  pdays  previous poutcome   y  \n",
      "0  cellular   20   apr       217         1     -1         0  unknown  no  \n",
      "1   unknown    4   jun       222         1     -1         0  unknown  no  \n",
      "2   unknown    2   jun        94        16     -1         0  unknown  no  \n",
      "3  cellular   16   apr       408         2    231        16    other  no  \n",
      "4   unknown   20   jun        76         4     -1         0  unknown  no  \n"
     ]
    }
   ],
   "source": [
    "import pandas as pd\n",
    "train=pd.read_csv(\"./bank_dataset/bank_test.csv\",sep=';')\n",
    "print(train.head())"
   ]
  },
  {
   "cell_type": "code",
   "execution_count": 49,
   "metadata": {},
   "outputs": [
    {
     "name": "stdout",
     "output_type": "stream",
     "text": [
      "Int64Index([  11,   21,   22,   40,   52,   53,   62,   68,   72,   74,\n",
      "            ...\n",
      "            4420, 4431, 4434, 4435, 4469, 4470, 4472, 4490, 4498, 4513],\n",
      "           dtype='int64', length=430)\n",
      "no\n",
      "11      1\n",
      "21      1\n",
      "22      1\n",
      "40      1\n",
      "52      1\n",
      "       ..\n",
      "4470    1\n",
      "4472    1\n",
      "4490    1\n",
      "4498    1\n",
      "4513    1\n",
      "Name: age, Length: 430, dtype: int64\n",
      "      age       job   marital  education default  balance housing loan  \\\n",
      "11      1  services   married  secondary      no     1315      no   no   \n",
      "21      1  services   married  secondary      no       47      no   no   \n",
      "22      1  services   married  secondary      no      497     yes   no   \n",
      "40      1  services    single  secondary      no      168      no   no   \n",
      "52      1  services   married  secondary      no      244     yes   no   \n",
      "...   ...       ...       ...        ...     ...      ...     ...  ...   \n",
      "4470    1  services   married  secondary      no      367     yes  yes   \n",
      "4472    1  services    single  secondary      no     1903     yes   no   \n",
      "4490    1  services  divorced  secondary      no      476      no   no   \n",
      "4498    1  services  divorced  secondary      no      392     yes  yes   \n",
      "4513    1  services    single  secondary      no     1757     yes   no   \n",
      "\n",
      "        contact  day month  duration  campaign  pdays  previous poutcome    y  \n",
      "11     cellular   14   aug       260         2     -1         0  unknown   no  \n",
      "21      unknown    5   may       234         2     -1         0  unknown   no  \n",
      "22    telephone   15   jul       265         5     -1         0  unknown   no  \n",
      "40     cellular   12   jan       387         1    194         1    other  yes  \n",
      "52     cellular    8   may       171         1     -1         0  unknown   no  \n",
      "...         ...  ...   ...       ...       ...    ...       ...      ...  ...  \n",
      "4470   cellular   29   jan       155         1    261         2  failure   no  \n",
      "4472    unknown   29   may       107         2     -1         0  unknown   no  \n",
      "4490   cellular   11   aug        67         7     -1         0  unknown   no  \n",
      "4498    unknown    7   may       254         1     -1         0  unknown   no  \n",
      "4513   cellular   20   apr      1010         3    326         1    other   no  \n",
      "\n",
      "[430 rows x 17 columns]\n"
     ]
    }
   ],
   "source": [
    "import numpy as np\n",
    "train=pd.read_csv(\"./bank_dataset/bank_test.csv\",sep=';')\n",
    "\n",
    "# print(np.median(train['duration']))\n",
    "# print(train.iloc[:,-1].value_counts().idxmax())\n",
    "# print(train.iloc[:,-1].value_counts())\n",
    "# print(train.columns)\n",
    "# print(np.unique(train['job']))\n",
    "test=train.loc[train['job']=='services']\n",
    "print(test.index)\n",
    "print(train.loc[0,'y'])\n",
    "train.at[test.index,'age']=1\n",
    "\n",
    "print(train.loc[test.index]['age'])\n",
    "train.loc[test.index]['age']=1\n",
    "\n",
    "print(train.loc[train['job']=='services'])\n"
   ]
  },
  {
   "cell_type": "code",
   "execution_count": null,
   "metadata": {},
   "outputs": [],
   "source": []
  },
  {
   "cell_type": "code",
   "execution_count": null,
   "metadata": {},
   "outputs": [],
   "source": []
  }
 ],
 "metadata": {
  "interpreter": {
   "hash": "af74d5892cc6ec92d638e3f92566238f8f2331de277a6f0ed89e3a87c5669053"
  },
  "kernelspec": {
   "display_name": "Python 3.9.1 64-bit",
   "name": "python3"
  },
  "language_info": {
   "codemirror_mode": {
    "name": "ipython",
    "version": 3
   },
   "file_extension": ".py",
   "mimetype": "text/x-python",
   "name": "python",
   "nbconvert_exporter": "python",
   "pygments_lexer": "ipython3",
   "version": "3.9.1"
  },
  "orig_nbformat": 4
 },
 "nbformat": 4,
 "nbformat_minor": 2
}
